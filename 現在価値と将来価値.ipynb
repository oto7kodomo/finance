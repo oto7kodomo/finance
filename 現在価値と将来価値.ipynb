{
 "cells": [
  {
   "cell_type": "markdown",
   "metadata": {
    "id": "-J4miWz2p95L"
   },
   "source": [
    "\n",
    "\n",
    "---\n",
    "\n",
    "\n",
    "## **現在価値と将来価値とは？**\n",
    "\n",
    "\n",
    "---\n",
    "\n"
   ]
  },
  {
   "cell_type": "markdown",
   "metadata": {
    "id": "XdxHhqozqi5s"
   },
   "source": [
    "「現在価値」と「将来価値」は違う時点のお金を比べるための概念です。\n",
    "\n",
    "金融においては最も基本的な考え方の一つで、これがわかると例えば、\n",
    "\n",
    "「１年後に100万円もらえるのと、いま100万円もらえるの、どっちがお得？」\n",
    "\n",
    "みたいな質問にも答えられるようになります。\n",
    "\n",
    "ま、とりあえず具体例で現在価値と将来価値について考えていきましょう。"
   ]
  },
  {
   "cell_type": "code",
   "execution_count": 1,
   "metadata": {
    "id": "rKvl30vb30Jg"
   },
   "outputs": [],
   "source": [
    "import numpy as np\n",
    "import pandas as pd\n",
    "import matplotlib.pyplot as plt\n",
    "import seaborn as sns\n",
    "sns.set(style=\"darkgrid\")\n",
    "import warnings\n",
    "warnings.simplefilter('ignore')"
   ]
  },
  {
   "cell_type": "markdown",
   "metadata": {
    "id": "sbuU1-quggAe"
   },
   "source": [
    "\n",
    "\n",
    "---\n",
    "\n",
    "\n",
    "## **現在価値から将来価値を計算する**\n",
    "\n",
    "---\n",
    "\n",
    "\n"
   ]
  },
  {
   "cell_type": "markdown",
   "metadata": {
    "id": "ewctvGZvumwU"
   },
   "source": [
    "アナタはいま100万円を持っています。そしていまの年利が1%だったとします。するとアナタの100万円は1年後には101万円になります。\n",
    "\n",
    "このときの100万円が「現在価値」、101万円が「将来価値」です。\n",
    "\n",
    "このことは$ X_0 $を現在価値、$ X_n $を将来価値、$ r $を年利、$ n $を年数とすると、以下の式で表すことができます。\n",
    "\n"
   ]
  },
  {
   "attachments": {
    "texclip20210926170004.png": {
     "image/png": "[encoded data removed]"
    }
   },
   "cell_type": "markdown",
   "metadata": {},
   "source": [
    "![texclip20210926170004.png](attachment:texclip20210926170004.png)"
   ]
  },
  {
   "cell_type": "markdown",
   "metadata": {},
   "source": [
    "たとえばさきほどの例を当てはめてみると、"
   ]
  },
  {
   "attachments": {
    "texclip20210926170102.png": {
     "image/png": "[encoded data removed]"
    }
   },
   "cell_type": "markdown",
   "metadata": {},
   "source": [
    "![texclip20210926170102.png](attachment:texclip20210926170102.png)"
   ]
  },
  {
   "cell_type": "markdown",
   "metadata": {},
   "source": [
    "となるわけです。"
   ]
  },
  {
   "cell_type": "markdown",
   "metadata": {
    "id": "Wbh_TlDIeVZX"
   },
   "source": [
    "ではPythonで現在価値から将来価値を計算してみます。"
   ]
  },
  {
   "cell_type": "code",
   "execution_count": 2,
   "metadata": {
    "colab": {
     "base_uri": "https://localhost:8080/"
    },
    "id": "BVtmydlH4MO9",
    "outputId": "fa051cc2-8155-4a72-f216-aff67185e19e"
   },
   "outputs": [
    {
     "name": "stdout",
     "output_type": "stream",
     "text": [
      "年利0.05の場合、現在価値100の1年後の将来価値は105.0です。\n"
     ]
    }
   ],
   "source": [
    "X0 = 100\n",
    "r = 0.05\n",
    "n = 1\n",
    "\n",
    "Xn = ((1+r)**n) * X0\n",
    "\n",
    "print(\"年利\"+str(r)+\"の場合、現在価値\"+str(X0)+\"の\"+str(n)+\"年後の将来価値は\"+str(Xn)+\"です。\")"
   ]
  },
  {
   "cell_type": "markdown",
   "metadata": {
    "id": "ZyRv1_Npf2VZ"
   },
   "source": [
    "年利や年数を動かして遊んでみましょう。"
   ]
  },
  {
   "cell_type": "code",
   "execution_count": 3,
   "metadata": {
    "colab": {
     "base_uri": "https://localhost:8080/",
     "height": 365
    },
    "id": "e4KqLnnqf0n-",
    "outputId": "8b972e9b-875f-472c-800f-8301796bcb94"
   },
   "outputs": [
    {
     "data": {
      "image/png": "[encoded data removed]",
      "text/plain": [
       "<Figure size 360x360 with 1 Axes>"
      ]
     },
     "metadata": {},
     "output_type": "display_data"
    }
   ],
   "source": [
    "X0 = 100\n",
    "r_list = np.arange(0.01, 0.10, 0.001)\n",
    "n = 1\n",
    "Xn_list = []\n",
    "\n",
    "for r in r_list:\n",
    "  Xn_list.append(((1+r)**n) * X0)\n",
    "\n",
    "p = sns.relplot(r_list, Xn_list)\n",
    "p.set(xlabel = \"Annual interest\", ylabel = \"Future value\")\n",
    "p.fig.set_figheight(5)\n",
    "p.fig.set_figwidth(5)"
   ]
  },
  {
   "cell_type": "code",
   "execution_count": 4,
   "metadata": {
    "colab": {
     "base_uri": "https://localhost:8080/",
     "height": 365
    },
    "id": "qpVA2Hqbn7uH",
    "outputId": "8a8e62c1-92c8-41e4-aed6-eb9c9332ec69"
   },
   "outputs": [
    {
     "data": {
      "image/png": "[encoded data removed]",
      "text/plain": [
       "<Figure size 360x360 with 1 Axes>"
      ]
     },
     "metadata": {},
     "output_type": "display_data"
    }
   ],
   "source": [
    "X0 = 100\n",
    "r = 0.05\n",
    "n_list = np.arange(1, 101, 1)\n",
    "Xn_list = []\n",
    "\n",
    "for n in n_list:\n",
    "  Xn_list.append(((1+r)**n) * X0)\n",
    "\n",
    "p = sns.relplot(n_list, Xn_list)\n",
    "p.set(xlabel = \"Years\", ylabel = \"Future value\")\n",
    "p.fig.set_figheight(5)\n",
    "p.fig.set_figwidth(5)"
   ]
  },
  {
   "cell_type": "markdown",
   "metadata": {
    "id": "V8dsvnzUJn3p"
   },
   "source": [
    "\n",
    "\n",
    "---\n",
    "\n",
    "\n",
    "## **将来価値から現在価値を計算する**\n",
    "\n",
    "\n",
    "---\n",
    "\n"
   ]
  },
  {
   "cell_type": "markdown",
   "metadata": {
    "id": "EjqL_Oa9Juun"
   },
   "source": [
    "さて、これまでは現在価値から将来価値を計算しました。次はこの逆、つまり現在価値から将来価値を計算します。\n",
    "\n",
    "アナタは1年後に101万円をもらえることになっています。そしていまの年利が1%だったとします。この場合の現在価値を計算してみます。\n",
    "\n",
    "これは先ほどの式を変形して、以下の式で求められます。"
   ]
  },
  {
   "attachments": {
    "texclip20210926170206.png": {
     "image/png": "[encoded data removed]"
    }
   },
   "cell_type": "markdown",
   "metadata": {},
   "source": [
    "![texclip20210926170206.png](attachment:texclip20210926170206.png)"
   ]
  },
  {
   "cell_type": "markdown",
   "metadata": {},
   "source": [
    "実際に数字を当てはめてみると、"
   ]
  },
  {
   "attachments": {
    "texclip20210926171651.png": {
     "image/png": "[encoded data removed]"
    }
   },
   "cell_type": "markdown",
   "metadata": {},
   "source": [
    "![texclip20210926171651.png](attachment:texclip20210926171651.png)"
   ]
  },
  {
   "cell_type": "markdown",
   "metadata": {},
   "source": [
    "現在価値が100万円と計算できました。"
   ]
  },
  {
   "cell_type": "markdown",
   "metadata": {
    "id": "rpW9jkc5Lek2"
   },
   "source": [
    "Pythonでも将来価値から現在価値を計算してみましょう。"
   ]
  },
  {
   "cell_type": "code",
   "execution_count": 5,
   "metadata": {
    "colab": {
     "base_uri": "https://localhost:8080/"
    },
    "id": "3wCDRRXk9upF",
    "outputId": "a8a13cce-2eb4-4b02-b35b-14cbfd1e16f3"
   },
   "outputs": [
    {
     "name": "stdout",
     "output_type": "stream",
     "text": [
      "年利0.05の場合、1年後の101の現在価値は96.19047619047619です。\n"
     ]
    }
   ],
   "source": [
    "Xn = 101\n",
    "r = 0.05\n",
    "n = 1\n",
    "\n",
    "X0 = Xn / ((1+r)**n)\n",
    "\n",
    "print(\"年利\"+str(r)+\"の場合、\"+str(n)+\"年後の\"+str(Xn)+\"の現在価値は\"+str(X0)+\"です。\")"
   ]
  },
  {
   "cell_type": "markdown",
   "metadata": {
    "id": "mycX8IGz_gHH"
   },
   "source": [
    "こちらも年利や年数を動かして遊んでみます。"
   ]
  },
  {
   "cell_type": "code",
   "execution_count": 6,
   "metadata": {
    "colab": {
     "base_uri": "https://localhost:8080/",
     "height": 365
    },
    "id": "IynmQ7us_gqz",
    "outputId": "2a67a1eb-621b-42a9-c844-cf365cf2f02a"
   },
   "outputs": [
    {
     "data": {
      "image/png": "[encoded data removed]",
      "text/plain": [
       "<Figure size 360x360 with 1 Axes>"
      ]
     },
     "metadata": {},
     "output_type": "display_data"
    }
   ],
   "source": [
    "Xn = 100\n",
    "r_list = np.arange(0.01, 0.10, 0.001)\n",
    "n = 1\n",
    "Xn_list = []\n",
    "\n",
    "for r in r_list:\n",
    "  Xn_list.append(Xn / ((1+r)**n))\n",
    "\n",
    "p = sns.relplot(r_list, Xn_list)\n",
    "p.set(xlabel = \"Annual interest\", ylabel = \"Future value\")\n",
    "p.fig.set_figheight(5)\n",
    "p.fig.set_figwidth(5)"
   ]
  },
  {
   "cell_type": "code",
   "execution_count": 7,
   "metadata": {
    "colab": {
     "base_uri": "https://localhost:8080/",
     "height": 365
    },
    "id": "-sX35dDV_4_B",
    "outputId": "ed612524-aa60-43ef-e4ef-bf159e679402"
   },
   "outputs": [
    {
     "data": {
      "image/png": "[encoded data removed]",
      "text/plain": [
       "<Figure size 360x360 with 1 Axes>"
      ]
     },
     "metadata": {},
     "output_type": "display_data"
    }
   ],
   "source": [
    "Xn = 100\n",
    "r = 0.05\n",
    "n_list = np.arange(1, 101, 1)\n",
    "Xn_list = []\n",
    "\n",
    "for n in n_list:\n",
    "  Xn_list.append(Xn / ((1+r)**n))\n",
    "\n",
    "p = sns.relplot(n_list, Xn_list)\n",
    "p.set(xlabel = \"Years\", ylabel = \"Future value\")\n",
    "p.fig.set_figheight(5)\n",
    "p.fig.set_figwidth(5)"
   ]
  },
  {
   "cell_type": "markdown",
   "metadata": {
    "id": "4g0cK88eBw0f"
   },
   "source": [
    "\n",
    "\n",
    "---\n",
    "\n",
    "\n",
    "## **まとめ**\n",
    "\n",
    "\n",
    "---\n",
    "\n"
   ]
  },
  {
   "cell_type": "markdown",
   "metadata": {
    "id": "h_1SGehaCEPl"
   },
   "source": [
    "「現在価値」と「将来価値」とでてきたら、違う時点のお金を比べるための計算方法なんだな〜とお考えください。"
   ]
  }
 ],
 "metadata": {
  "colab": {
   "collapsed_sections": [],
   "name": "現在価値と将来価値.ipynb",
   "provenance": []
  },
  "kernelspec": {
   "display_name": "Python 3",
   "language": "python",
   "name": "python3"
  },
  "language_info": {
   "codemirror_mode": {
    "name": "ipython",
    "version": 3
   },
   "file_extension": ".py",
   "mimetype": "text/x-python",
   "name": "python",
   "nbconvert_exporter": "python",
   "pygments_lexer": "ipython3",
   "version": "3.8.8"
  }
 },
 "nbformat": 4,
 "nbformat_minor": 1
}
