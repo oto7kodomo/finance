{
  "nbformat": 4,
  "nbformat_minor": 0,
  "metadata": {
    "colab": {
      "name": "現在価値と将来価値.ipynb",
      "provenance": [],
      "collapsed_sections": [],
      "authorship_tag": "ABX9TyN8R3mBtqb0n9VY3Wz4X+se",
      "include_colab_link": true
    },
    "kernelspec": {
      "name": "python3",
      "display_name": "Python 3"
    },
    "language_info": {
      "name": "python"
    }
  },
  "cells": [
    {
      "cell_type": "markdown",
      "metadata": {
        "id": "view-in-github",
        "colab_type": "text"
      },
      "source": [
        "<a href=\"https://colab.research.google.com/github/oto7kodomo/finance/blob/main/%E7%8F%BE%E5%9C%A8%E4%BE%A1%E5%80%A4%E3%81%A8%E5%B0%86%E6%9D%A5%E4%BE%A1%E5%80%A4.ipynb\" target=\"_parent\"><img src=\"https://colab.research.google.com/assets/colab-badge.svg\" alt=\"Open In Colab\"/></a>"
      ]
    },
    {
      "cell_type": "markdown",
      "metadata": {
        "id": "-J4miWz2p95L"
      },
      "source": [
        "\n",
        "\n",
        "---\n",
        "\n",
        "\n",
        "## **現在価値と将来価値とは？**\n",
        "\n",
        "\n",
        "---\n",
        "\n"
      ]
    },
    {
      "cell_type": "markdown",
      "metadata": {
        "id": "XdxHhqozqi5s"
      },
      "source": [
        "「現在価値」と「将来価値」は違う時点のお金を比べるための概念です。\n",
        "\n",
        "金融において現在価値と将来価値は最も基本的な考え方の一つで、\n",
        "\n",
        "これがわかると例えば、「１年後に１００万円もらえるのと、いま100万円もらえるの、どっちがお得？」\n",
        "\n",
        "みたいな質問にも答えられるようになります。\n",
        "\n",
        "ま、とりあえず具体例で現在価値と将来価値について考えていきましょう。"
      ]
    },
    {
      "cell_type": "code",
      "metadata": {
        "id": "rKvl30vb30Jg"
      },
      "source": [
        "import numpy as np\n",
        "import pandas as pd\n",
        "import matplotlib.pyplot as plt\n",
        "import seaborn as sns\n",
        "sns.set(style=\"darkgrid\")\n",
        "import warnings\n",
        "warnings.simplefilter('ignore')"
      ],
      "execution_count": 24,
      "outputs": []
    },
    {
      "cell_type": "markdown",
      "metadata": {
        "id": "sbuU1-quggAe"
      },
      "source": [
        "\n",
        "\n",
        "---\n",
        "\n",
        "\n",
        "## **現在価値から将来価値を計算する**\n",
        "\n",
        "---\n",
        "\n",
        "\n"
      ]
    },
    {
      "cell_type": "markdown",
      "metadata": {
        "id": "ewctvGZvumwU"
      },
      "source": [
        "アナタはいま100万円を持っています。そしていまの年利が1%だったとします。するとアナタの100万円は1年後には101万円になります。\n",
        "\n",
        "このときの100万円が「現在価値」、101万円が「将来価値」です。\n",
        "\n",
        "このことは$ X_0 $を現在価値、$ X_n $を将来価値、$ r $を年利、$ n $を年数とすると、以下の式で表すことができます。\n",
        "\n",
        "$$　X_n=(1+r)^nX_0$$\n",
        "\n",
        "たとえばさきほどの例を当てはめてみると、\n",
        "\n",
        "$$　101=(1+0.01)^1100$$\n",
        "\n",
        "となるわけです。"
      ]
    },
    {
      "cell_type": "markdown",
      "metadata": {
        "id": "Wbh_TlDIeVZX"
      },
      "source": [
        "ではPythonで現在価値から将来価値を計算してみます。"
      ]
    },
    {
      "cell_type": "code",
      "metadata": {
        "id": "BVtmydlH4MO9",
        "colab": {
          "base_uri": "https://localhost:8080/"
        },
        "outputId": "fa051cc2-8155-4a72-f216-aff67185e19e"
      },
      "source": [
        "X0 = 100\n",
        "r = 0.05\n",
        "n = 1\n",
        "\n",
        "Xn = ((1+r)**n) * X0\n",
        "\n",
        "print(\"年利\"+str(r)+\"の場合、現在価値\"+str(X0)+\"の\"+str(n)+\"年後の将来価値は\"+str(Xn)+\"です。\")"
      ],
      "execution_count": 25,
      "outputs": [
        {
          "output_type": "stream",
          "name": "stdout",
          "text": [
            "年利0.05の場合、現在価値100の1年後の将来価値は105.0です。\n"
          ]
        }
      ]
    },
    {
      "cell_type": "markdown",
      "metadata": {
        "id": "ZyRv1_Npf2VZ"
      },
      "source": [
        "年利や年数を動かして遊んでみましょう。"
      ]
    },
    {
      "cell_type": "code",
      "metadata": {
        "colab": {
          "base_uri": "https://localhost:8080/",
          "height": 365
        },
        "id": "e4KqLnnqf0n-",
        "outputId": "8b972e9b-875f-472c-800f-8301796bcb94"
      },
      "source": [
        "X0 = 100\n",
        "r_list = np.arange(0.01, 0.10, 0.001)\n",
        "n = 1\n",
        "Xn_list = []\n",
        "\n",
        "for r in r_list:\n",
        "  Xn_list.append(((1+r)**n) * X0)\n",
        "\n",
        "p = sns.relplot(r_list, Xn_list)\n",
        "p.set(xlabel = \"Annual interest\", ylabel = \"Future value\")\n",
        "p.fig.set_figheight(5)\n",
        "p.fig.set_figwidth(5)"
      ],
      "execution_count": 26,
      "outputs": [
        {
          "output_type": "display_data",
          "data": {
            "image/png": "[encoded data removed]",
            "text/plain": [
              "<Figure size 360x360 with 1 Axes>"
            ]
          },
          "metadata": {}
        }
      ]
    },
    {
      "cell_type": "code",
      "metadata": {
        "colab": {
          "base_uri": "https://localhost:8080/",
          "height": 365
        },
        "id": "qpVA2Hqbn7uH",
        "outputId": "8a8e62c1-92c8-41e4-aed6-eb9c9332ec69"
      },
      "source": [
        "X0 = 100\n",
        "r = 0.05\n",
        "n_list = np.arange(1, 101, 1)\n",
        "Xn_list = []\n",
        "\n",
        "for n in n_list:\n",
        "  Xn_list.append(((1+r)**n) * X0)\n",
        "\n",
        "p = sns.relplot(n_list, Xn_list)\n",
        "p.set(xlabel = \"Years\", ylabel = \"Future value\")\n",
        "p.fig.set_figheight(5)\n",
        "p.fig.set_figwidth(5)"
      ],
      "execution_count": 27,
      "outputs": [
        {
          "output_type": "display_data",
          "data": {
            "image/png": "[encoded data removed]",
            "text/plain": [
              "<Figure size 360x360 with 1 Axes>"
            ]
          },
          "metadata": {}
        }
      ]
    },
    {
      "cell_type": "markdown",
      "metadata": {
        "id": "V8dsvnzUJn3p"
      },
      "source": [
        "\n",
        "\n",
        "---\n",
        "\n",
        "\n",
        "## **将来価値から現在価値を計算する**\n",
        "\n",
        "\n",
        "---\n",
        "\n"
      ]
    },
    {
      "cell_type": "markdown",
      "metadata": {
        "id": "EjqL_Oa9Juun"
      },
      "source": [
        "さて、これまでは現在価値から将来価値を計算しました。次はこの逆、つまり現在価値から将来価値を計算します。\n",
        "\n",
        "アナタは1年後に101万円をもらえることになっています。そしていまの年利が1%だったとします。この場合の現在価値を計算してみます。\n",
        "\n",
        "これは先ほどの式を変形して、以下の式で求められます。\n",
        "\n",
        "$$　X_0=\\frac{X_n}{(1+r)^n}$$\n",
        "\n",
        "実際に数字を当てはめてみると、\n",
        "\n",
        "$$　100=\\frac{101}{(1+0.01)^1}$$\n",
        "\n",
        "現在価値が100万円と計算できました。"
      ]
    },
    {
      "cell_type": "markdown",
      "metadata": {
        "id": "rpW9jkc5Lek2"
      },
      "source": [
        "Pythonでも将来価値から現在価値を計算してみましょう。"
      ]
    },
    {
      "cell_type": "code",
      "metadata": {
        "colab": {
          "base_uri": "https://localhost:8080/"
        },
        "id": "3wCDRRXk9upF",
        "outputId": "a8a13cce-2eb4-4b02-b35b-14cbfd1e16f3"
      },
      "source": [
        "Xn = 101\n",
        "r = 0.05\n",
        "n = 1\n",
        "\n",
        "X0 = Xn / ((1+r)**n)\n",
        "\n",
        "print(\"年利\"+str(r)+\"の場合、\"+str(n)+\"年後の\"+str(Xn)+\"の現在価値は\"+str(X0)+\"です。\")"
      ],
      "execution_count": 28,
      "outputs": [
        {
          "output_type": "stream",
          "name": "stdout",
          "text": [
            "年利0.05の場合、1年後の101の現在価値は96.19047619047619です。\n"
          ]
        }
      ]
    },
    {
      "cell_type": "markdown",
      "metadata": {
        "id": "mycX8IGz_gHH"
      },
      "source": [
        "こちらも年利や年数を動かして遊んでみます。"
      ]
    },
    {
      "cell_type": "code",
      "metadata": {
        "colab": {
          "base_uri": "https://localhost:8080/",
          "height": 365
        },
        "id": "IynmQ7us_gqz",
        "outputId": "2a67a1eb-621b-42a9-c844-cf365cf2f02a"
      },
      "source": [
        "Xn = 100\n",
        "r_list = np.arange(0.01, 0.10, 0.001)\n",
        "n = 1\n",
        "Xn_list = []\n",
        "\n",
        "for r in r_list:\n",
        "  Xn_list.append(Xn / ((1+r)**n))\n",
        "\n",
        "p = sns.relplot(r_list, Xn_list)\n",
        "p.set(xlabel = \"Annual interest\", ylabel = \"Future value\")\n",
        "p.fig.set_figheight(5)\n",
        "p.fig.set_figwidth(5)"
      ],
      "execution_count": 29,
      "outputs": [
        {
          "output_type": "display_data",
          "data": {
            "image/png": "[encoded data removed]",
            "text/plain": [
              "<Figure size 360x360 with 1 Axes>"
            ]
          },
          "metadata": {}
        }
      ]
    },
    {
      "cell_type": "code",
      "metadata": {
        "colab": {
          "base_uri": "https://localhost:8080/",
          "height": 365
        },
        "id": "-sX35dDV_4_B",
        "outputId": "ed612524-aa60-43ef-e4ef-bf159e679402"
      },
      "source": [
        "Xn = 100\n",
        "r = 0.05\n",
        "n_list = np.arange(1, 101, 1)\n",
        "Xn_list = []\n",
        "\n",
        "for n in n_list:\n",
        "  Xn_list.append(Xn / ((1+r)**n))\n",
        "\n",
        "p = sns.relplot(n_list, Xn_list)\n",
        "p.set(xlabel = \"Years\", ylabel = \"Future value\")\n",
        "p.fig.set_figheight(5)\n",
        "p.fig.set_figwidth(5)"
      ],
      "execution_count": 30,
      "outputs": [
        {
          "output_type": "display_data",
          "data": {
            "image/png": "[encoded data removed]",
            "text/plain": [
              "<Figure size 360x360 with 1 Axes>"
            ]
          },
          "metadata": {}
        }
      ]
    },
    {
      "cell_type": "markdown",
      "metadata": {
        "id": "4g0cK88eBw0f"
      },
      "source": [
        "\n",
        "\n",
        "---\n",
        "\n",
        "\n",
        "## **まとめ**\n",
        "\n",
        "\n",
        "---\n",
        "\n"
      ]
    },
    {
      "cell_type": "markdown",
      "metadata": {
        "id": "h_1SGehaCEPl"
      },
      "source": [
        "「現在価値」と「将来価値」とでてきたら、違う時点のお金を比べるための計算方法なんだな〜とお考えください。"
      ]
    }
  ]
}